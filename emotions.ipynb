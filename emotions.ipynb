{
 "cells": [
  {
   "cell_type": "code",
   "execution_count": 3,
   "id": "9cc4907a-1eb3-4313-a9d9-7908cdc2401c",
   "metadata": {},
   "outputs": [
    {
     "name": "stdout",
     "output_type": "stream",
     "text": [
      "Error: no se pudo cargar el clasificador.\n"
     ]
    }
   ],
   "source": [
    "import numpy as np\n",
    "import cv2 as cv\n",
    "import math\n",
    "\n",
    "# Cargar el clasificador entrenado\n",
    "wally = cv.CascadeClassifier(\"emociones2Eigenface.xml\")\n",
    "\n",
    "if wally.empty():\n",
    "    print(\"Error: no se pudo cargar el clasificador.\")\n",
    "else:\n",
    "    print(\"Clasificador cargado correctamente.\")\n"
   ]
  },
  {
   "cell_type": "code",
   "execution_count": 2,
   "id": "da279ce5",
   "metadata": {},
   "outputs": [
    {
     "name": "stdout",
     "output_type": "stream",
     "text": [
      "Imagen cargada correctamente.\n"
     ]
    },
    {
     "ename": "error",
     "evalue": "OpenCV(4.9.0) D:\\a\\opencv-python\\opencv-python\\opencv\\modules\\objdetect\\src\\cascadedetect.cpp:1689: error: (-215:Assertion failed) !empty() in function 'cv::CascadeClassifier::detectMultiScale'\n",
     "output_type": "error",
     "traceback": [
      "\u001b[1;31m---------------------------------------------------------------------------\u001b[0m",
      "\u001b[1;31merror\u001b[0m                                     Traceback (most recent call last)",
      "Cell \u001b[1;32mIn[2], line 8\u001b[0m\n\u001b[0;32m      5\u001b[0m     \u001b[38;5;28mprint\u001b[39m(\u001b[38;5;124m\"\u001b[39m\u001b[38;5;124mImagen cargada correctamente.\u001b[39m\u001b[38;5;124m\"\u001b[39m)\n\u001b[0;32m      7\u001b[0m gray \u001b[38;5;241m=\u001b[39m cv\u001b[38;5;241m.\u001b[39mcvtColor(frame, cv\u001b[38;5;241m.\u001b[39mCOLOR_BGR2GRAY)\n\u001b[1;32m----> 8\u001b[0m wallys \u001b[38;5;241m=\u001b[39m \u001b[43mwally\u001b[49m\u001b[38;5;241;43m.\u001b[39;49m\u001b[43mdetectMultiScale\u001b[49m\u001b[43m(\u001b[49m\u001b[43mgray\u001b[49m\u001b[43m,\u001b[49m\u001b[38;5;241;43m1.3\u001b[39;49m\u001b[43m,\u001b[49m\u001b[38;5;241;43m5\u001b[39;49m\u001b[43m)\u001b[49m\n\u001b[0;32m     10\u001b[0m \u001b[38;5;28;01mfor\u001b[39;00m (x, y, w, h) \u001b[38;5;129;01min\u001b[39;00m wallys:\n\u001b[0;32m     11\u001b[0m     frame \u001b[38;5;241m=\u001b[39m cv\u001b[38;5;241m.\u001b[39mrectangle(frame, (x, y), (x \u001b[38;5;241m+\u001b[39m w, y \u001b[38;5;241m+\u001b[39m h), (\u001b[38;5;241m0\u001b[39m, \u001b[38;5;241m255\u001b[39m, \u001b[38;5;241m0\u001b[39m), \u001b[38;5;241m2\u001b[39m)\n",
      "\u001b[1;31merror\u001b[0m: OpenCV(4.9.0) D:\\a\\opencv-python\\opencv-python\\opencv\\modules\\objdetect\\src\\cascadedetect.cpp:1689: error: (-215:Assertion failed) !empty() in function 'cv::CascadeClassifier::detectMultiScale'\n"
     ]
    }
   ],
   "source": [
    "frame = cv.imread(\"feliz.jpg\")\n",
    "if frame is None:\n",
    "    print(\"Error: no se pudo cargar la imagen.\")\n",
    "else:\n",
    "    print(\"Imagen cargada correctamente.\")\n",
    "\n",
    "gray = cv.cvtColor(frame, cv.COLOR_BGR2GRAY)\n",
    "wallys = wally.detectMultiScale(gray,1.3,5)\n",
    "\n",
    "for (x, y, w, h) in wallys:\n",
    "    frame = cv.rectangle(frame, (x, y), (x + w, y + h), (0, 255, 0), 2)\n",
    "\n",
    "# Mostrar la imagen con los rectángulos\n",
    "cv.imshow('rostros', frame)\n",
    "cv.waitKey(0)\n",
    "cv.destroyAllWindows()\n"
   ]
  },
  {
   "cell_type": "code",
   "execution_count": 8,
   "id": "b712ba0f-51ab-492e-aec7-b3bd50274b19",
   "metadata": {},
   "outputs": [
    {
     "name": "stdout",
     "output_type": "stream",
     "text": [
      "Imagen cargada correctamente.\n"
     ]
    }
   ],
   "source": [
    "frame = cv.imread(\"iaimg.jpg\")\n",
    "if frame is None:\n",
    "    print(\"Error: no se pudo cargar la imagen.\")\n",
    "else:\n",
    "    print(\"Imagen cargada correctamente.\")\n",
    "\n",
    "gray = cv.cvtColor(frame, cv.COLOR_BGR2GRAY)\n",
    "wallys = wally.detectMultiScale(gray,1.3,5)\n",
    "\n",
    "for (x, y, w, h) in wallys:\n",
    "    frame = cv.rectangle(frame, (x, y), (x + w, y + h), (0, 255, 0), 2)\n",
    "\n",
    "# Mostrar la imagen con los rectángulos\n",
    "cv.imshow('rostros', frame)\n",
    "cv.waitKey(0)\n",
    "cv.destroyAllWindows()\n"
   ]
  },
  {
   "cell_type": "code",
   "execution_count": 20,
   "id": "517ac186-b8da-43f5-b2e4-3ce135e12216",
   "metadata": {},
   "outputs": [],
   "source": [
    "###Codigos para reescalar \n",
    "\n",
    "import numpy as np\n",
    "import cv2 as cv\n",
    "import math \n",
    "import os\n"
   ]
  },
  {
   "cell_type": "code",
   "execution_count": 13,
   "id": "f550054b-dbb9-46dd-84c9-aa3d4d821a8c",
   "metadata": {},
   "outputs": [],
   "source": [
    "def escala(imx, escala):\n",
    "    width = int(imx.shape[1] * escala / 100)\n",
    "    height = int(imx.shape[0] * escala / 100)\n",
    "    size = (width, height)\n",
    "    im = cv.resize(imx, size, interpolation = cv.INTER_AREA)\n",
    "    return im\n"
   ]
  },
  {
   "cell_type": "code",
   "execution_count": 14,
   "id": "a3513069-b958-4bab-8155-6068e3784348",
   "metadata": {},
   "outputs": [],
   "source": [
    "def zoom(img, scale_factor):\n",
    "    height, width = img.shape[:2]\n",
    "    new_height = int(height * scale_factor)\n",
    "    new_width = int(width * scale_factor)\n",
    "    img_zoom = cv.resize(img, (new_width, new_height), interpolation=cv.INTER_LINEAR)\n",
    "    start_x = (new_width - width) // 2\n",
    "    start_y = (new_height - height) // 2\n",
    "    img_zoom = img_zoom[start_y:start_y + height, start_x:start_x + width]\n",
    "    return img_zoom"
   ]
  },
  {
   "cell_type": "code",
   "execution_count": 15,
   "id": "58678810-f345-4644-a762-253e483d3417",
   "metadata": {},
   "outputs": [],
   "source": [
    "def rotar(img, angle):\n",
    "    h, w = img.shape[:2]\n",
    "    mw = cv.getRotationMatrix2D((w//2, h//2), angle, 1)\n",
    "    img_rotada = cv.warpAffine(img, mw, (w, h))\n",
    "    return img_rotada"
   ]
  },
  {
   "cell_type": "code",
   "execution_count": 16,
   "id": "dda146ee-b1a9-4251-a380-c49251675f41",
   "metadata": {},
   "outputs": [
    {
     "name": "stdout",
     "output_type": "stream",
     "text": [
      "Procesada imagen 1/7\n",
      "Procesada imagen 2/7\n",
      "Procesada imagen 3/7\n",
      "Procesada imagen 4/7\n",
      "Procesada imagen 5/7\n",
      "Procesada imagen 6/7\n",
      "Procesada imagen 7/7\n"
     ]
    }
   ],
   "source": [
    "def procesar_imagenes(carpeta_origen, carpeta_destino):\n",
    "    if not os.path.exists(carpeta_destino):\n",
    "        os.makedirs(carpeta_destino)\n",
    "\n",
    "    archivos = [f for f in os.listdir(carpeta_origen) if f.endswith(('.jpg'))]\n",
    "    \n",
    "    for i, archivo in enumerate(archivos):\n",
    "        ruta_completa = os.path.join(carpeta_origen, archivo)\n",
    "        img = cv.imread(ruta_completa)\n",
    "        \n",
    "        # Redimensionar a 50x50 píxeles\n",
    "        img_redimensionada = cv.resize(img, (50, 50), interpolation=cv.INTER_AREA)\n",
    "        \n",
    "        # Guardar la imagen redimensionada\n",
    "        cv.imwrite(os.path.join(carpeta_destino, f'redimensionada_{i}.jpg'), img_redimensionada)\n",
    "        \n",
    "        # Aplicar y guardar imagen con zoom\n",
    "        img_zoom = zoom(img_redimensionada, 1.5)\n",
    "        cv.imwrite(os.path.join(carpeta_destinozoom, f'zoom_{i}.jpg'), img_zoom)\n",
    "        \n",
    "        # Aplicar y guardar imagen rotada\n",
    "        img_rotada = rotar(img_redimensionada, 45)\n",
    "        cv.imwrite(os.path.join(carpeta_destinorotada, f'rotada_{i}.jpg'), img_rotada)\n",
    "        \n",
    "        print(f'Procesada imagen {i+1}/{len(archivos)}')\n",
    "\n",
    "# Directorio con las imágenes originales\n",
    "carpeta_origen = 'C:\\\\Users\\\\Rodrigo\\\\Desktop\\\\InteligenciaArtificial\\\\datsetwally\\\\base'\n",
    "# Directorio donde se guardarán las imágenes procesadas\n",
    "carpeta_destino = 'C:\\\\Users\\\\Rodrigo\\\\Desktop\\\\InteligenciaArtificial\\\\datsetwally\\\\redimensionadas'\n",
    "carpeta_destinozoom = 'C:\\\\Users\\\\Rodrigo\\\\Desktop\\\\InteligenciaArtificial\\\\datsetwally\\\\zoom'\n",
    "carpeta_destinorotada = 'C:\\\\Users\\\\Rodrigo\\\\Desktop\\\\InteligenciaArtificial\\\\datsetwally\\\\rotadas'\n",
    "\n",
    "\n",
    "\n",
    "procesar_imagenes(carpeta_origen, carpeta_destino)"
   ]
  },
  {
   "cell_type": "code",
   "execution_count": 3,
   "id": "c61c0ee3-abf2-4305-8b3c-87c98c0c8821",
   "metadata": {},
   "outputs": [
    {
     "name": "stdout",
     "output_type": "stream",
     "text": [
      "Procesada imagen 1/18\n",
      "Procesada imagen 2/18\n",
      "Procesada imagen 3/18\n",
      "Procesada imagen 4/18\n",
      "Procesada imagen 5/18\n",
      "Procesada imagen 6/18\n",
      "Procesada imagen 7/18\n",
      "Procesada imagen 8/18\n",
      "Procesada imagen 9/18\n",
      "Procesada imagen 10/18\n",
      "Procesada imagen 11/18\n",
      "Procesada imagen 12/18\n",
      "Procesada imagen 13/18\n",
      "Procesada imagen 14/18\n",
      "Procesada imagen 15/18\n",
      "Procesada imagen 16/18\n",
      "Procesada imagen 17/18\n",
      "Procesada imagen 18/18\n"
     ]
    }
   ],
   "source": [
    "import numpy as np\n",
    "import cv2 as cv\n",
    "import os\n",
    "\n",
    "def escala(imx, escala):\n",
    "    width = int(imx.shape[1] * escala / 100)\n",
    "    height = int(imx.shape[0] * escala / 100)\n",
    "    size = (width, height)\n",
    "    im = cv.resize(imx, size, interpolation=cv.INTER_AREA)\n",
    "    return im\n",
    "\n",
    "def zoom(img, scale_factor):\n",
    "    height, width = img.shape[:2]\n",
    "    new_height = int(height * scale_factor)\n",
    "    new_width = int(width * scale_factor)\n",
    "    img_zoom = cv.resize(img, (new_width, new_height), interpolation=cv.INTER_LINEAR)\n",
    "    start_x = (new_width - width) // 2\n",
    "    start_y = (new_height - height) // 2\n",
    "    img_zoom = img_zoom[start_y:start_y + height, start_x:start_x + width]\n",
    "    return img_zoom\n",
    "\n",
    "def rotar(img, angle):\n",
    "    h, w = img.shape[:2]\n",
    "    mw = cv.getRotationMatrix2D((w // 2, h // 2), angle, 1)\n",
    "    img_rotada = cv.warpAffine(img, mw, (w, h))\n",
    "    return img_rotada\n",
    "\n",
    "def invertir(img, horizontal=True, vertical=False):\n",
    "    if horizontal:\n",
    "        img = cv.flip(img, 1)\n",
    "    if vertical:\n",
    "        img = cv.flip(img, 0)\n",
    "    return img\n",
    "\n",
    "def procesar_imagenes(carpeta_origen, carpeta_destino):\n",
    "    if not os.path.exists(carpeta_destino):\n",
    "        os.makedirs(carpeta_destino)\n",
    "\n",
    "    archivos = [f for f in os.listdir(carpeta_origen) if f.endswith('.jpg')]\n",
    "    \n",
    "    for i, archivo in enumerate(archivos):\n",
    "        ruta_completa = os.path.join(carpeta_origen, archivo)\n",
    "        img = cv.imread(ruta_completa)\n",
    "        \n",
    "        # Redimensionar a 50x50 píxeles\n",
    "        img_redimensionada = cv.resize(img, (50, 50), interpolation=cv.INTER_AREA)\n",
    "        \n",
    "        # Guardar la imagen redimensionada\n",
    "        cv.imwrite(os.path.join(carpeta_destino, f'redimensionada_{i}.jpg'), img_redimensionada)\n",
    "        \n",
    "        # Aplicar y guardar múltiples imágenes con zoom\n",
    "        for zoom_factor in [1.5, 0.5]:  # Zoom in y zoom out\n",
    "            img_zoom = zoom(img_redimensionada, zoom_factor)\n",
    "            cv.imwrite(os.path.join(carpeta_destino, f'zoom_{zoom_factor}_{i}.jpg'), img_zoom)\n",
    "        \n",
    "        # Aplicar y guardar múltiples imágenes rotadas\n",
    "        for angle in [45, 90, 135, 180, 225, 270, 315]:\n",
    "            img_rotada = rotar(img_redimensionada, angle)\n",
    "            cv.imwrite(os.path.join(carpeta_destino, f'rotada_{angle}_{i}.jpg'), img_rotada)\n",
    "        \n",
    "        # Aplicar y guardar imágenes invertidas\n",
    "        img_invertida_h = invertir(img_redimensionada, horizontal=True, vertical=False)\n",
    "        cv.imwrite(os.path.join(carpeta_destino, f'invertida_h_{i}.jpg'), img_invertida_h)\n",
    "        \n",
    "        img_invertida_v = invertir(img_redimensionada, horizontal=False, vertical=True)\n",
    "        cv.imwrite(os.path.join(carpeta_destino, f'invertida_v_{i}.jpg'), img_invertida_v)\n",
    "        \n",
    "        img_invertida_hv = invertir(img_redimensionada, horizontal=True, vertical=True)\n",
    "        cv.imwrite(os.path.join(carpeta_destino, f'invertida_hv_{i}.jpg'), img_invertida_hv)\n",
    "        \n",
    "        print(f'Procesada imagen {i+1}/{len(archivos)}')\n",
    "\n",
    "# Directorio con las imágenes originales\n",
    "carpeta_origen = 'C:\\\\Users\\\\Rodrigo\\\\Desktop\\\\InteligenciaArtificial\\\\datsetwally\\\\base'\n",
    "# Directorio donde se guardarán las imágenes procesadas\n",
    "carpeta_destino = 'C:\\\\Users\\\\Rodrigo\\\\Desktop\\\\InteligenciaArtificial\\\\datsetwally\\\\muestras\\\\p'\n",
    "\n",
    "\n",
    "procesar_imagenes(carpeta_origen, carpeta_destino)"
   ]
  },
  {
   "cell_type": "code",
   "execution_count": null,
   "id": "8d9bb01f-9e8a-47d1-8f82-395d85d44f88",
   "metadata": {},
   "outputs": [],
   "source": []
  }
 ],
 "metadata": {
  "kernelspec": {
   "display_name": "Python 3 (ipykernel)",
   "language": "python",
   "name": "python3"
  },
  "language_info": {
   "codemirror_mode": {
    "name": "ipython",
    "version": 3
   },
   "file_extension": ".py",
   "mimetype": "text/x-python",
   "name": "python",
   "nbconvert_exporter": "python",
   "pygments_lexer": "ipython3",
   "version": "3.12.0"
  }
 },
 "nbformat": 4,
 "nbformat_minor": 5
}
